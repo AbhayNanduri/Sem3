{
 "cells": [
  {
   "cell_type": "code",
   "execution_count": 1,
   "metadata": {},
   "outputs": [],
   "source": [
    "import numpy as np"
   ]
  },
  {
   "cell_type": "code",
   "execution_count": 2,
   "metadata": {},
   "outputs": [],
   "source": [
    "def FindEVs( matrix ) :\n",
    "\n",
    "    print( f\"matrix : \\n{ matrix }\\n\" )\n",
    "    eigvals = np.linalg.eig( matrix )\n",
    "\n",
    "    print(f\" EigenValues : \\n{ eigvals[0] } \\n\")\n",
    "    print(f\" EigenVecs : \\n{ eigvals[1] } \")"
   ]
  },
  {
   "cell_type": "code",
   "execution_count": 3,
   "metadata": {},
   "outputs": [],
   "source": [
    "matrix = np.array( [\n",
    "    [0 , 5 ,-10] ,\n",
    "    [0 ,22 , 16] ,\n",
    "    [0 ,-9 ,-2 ]\n",
    "\n",
    "] )\n",
    "\n",
    "immatrix = np.array( [\n",
    "    [3 , -2] ,\n",
    "    [4 ,  1]\n",
    "] )"
   ]
  },
  {
   "cell_type": "code",
   "execution_count": 4,
   "metadata": {},
   "outputs": [],
   "source": [
    "eigvals = np.linalg.eig( matrix )"
   ]
  },
  {
   "cell_type": "code",
   "execution_count": 5,
   "metadata": {},
   "outputs": [
    {
     "name": "stdout",
     "output_type": "stream",
     "text": [
      "matrix : \n",
      "[[  0   5 -10]\n",
      " [  0  22  16]\n",
      " [  0  -9  -2]]\n",
      "\n",
      " EigenValues : \n",
      "[ 0. 10. 10.] \n",
      "\n",
      " EigenVecs : \n",
      "[[ 1.          0.70710678 -0.70710678]\n",
      " [ 0.          0.56568542 -0.56568542]\n",
      " [ 0.         -0.42426407  0.42426407]] \n"
     ]
    }
   ],
   "source": [
    "FindEVs( matrix )"
   ]
  },
  {
   "cell_type": "code",
   "execution_count": 6,
   "metadata": {},
   "outputs": [
    {
     "name": "stdout",
     "output_type": "stream",
     "text": [
      "matrix : \n",
      "[[ 3 -2]\n",
      " [ 4  1]]\n",
      "\n",
      " EigenValues : \n",
      "[2.+2.64575131j 2.-2.64575131j] \n",
      "\n",
      " EigenVecs : \n",
      "[[0.20412415+0.54006172j 0.20412415-0.54006172j]\n",
      " [0.81649658+0.j         0.81649658-0.j        ]] \n"
     ]
    }
   ],
   "source": [
    "FindEVs( immatrix )"
   ]
  },
  {
   "cell_type": "code",
   "execution_count": 7,
   "metadata": {},
   "outputs": [],
   "source": [
    "sksm = np.array([\n",
    "    [  0, -2,  45] ,\n",
    "    [  2,  0,  4 ] ,\n",
    "    [-45, -4 , 0 ]\n",
    "])"
   ]
  },
  {
   "cell_type": "code",
   "execution_count": 8,
   "metadata": {},
   "outputs": [
    {
     "name": "stdout",
     "output_type": "stream",
     "text": [
      "matrix : \n",
      "[[  0  -2  45]\n",
      " [  2   0   4]\n",
      " [-45  -4   0]]\n",
      "\n",
      " EigenValues : \n",
      "[-3.33066907e-16+45.22167622j -3.33066907e-16-45.22167622j\n",
      "  6.26033980e-16 +0.j        ] \n",
      "\n",
      " EigenVecs : \n",
      "[[ 0.0027689 -0.70432972j  0.0027689 +0.70432972j -0.08845316+0.j        ]\n",
      " [-0.03115009-0.06260709j -0.03115009+0.06260709j  0.99509801+0.j        ]\n",
      " [ 0.7064149 +0.j          0.7064149 -0.j          0.04422658+0.j        ]] \n"
     ]
    }
   ],
   "source": [
    "FindEVs( sksm )"
   ]
  },
  {
   "cell_type": "code",
   "execution_count": 9,
   "metadata": {},
   "outputs": [
    {
     "name": "stdout",
     "output_type": "stream",
     "text": [
      "matrix : \n",
      "[[  0  -2  45]\n",
      " [  2   0   4]\n",
      " [-45  -4   0]]\n",
      "\n",
      " EigenValues : \n",
      "[-3.33066907e-16+45.22167622j -3.33066907e-16-45.22167622j\n",
      "  6.26033980e-16 +0.j        ] \n",
      "\n",
      " EigenVecs : \n",
      "[[ 0.0027689 -0.70432972j  0.0027689 +0.70432972j -0.08845316+0.j        ]\n",
      " [-0.03115009-0.06260709j -0.03115009+0.06260709j  0.99509801+0.j        ]\n",
      " [ 0.7064149 +0.j          0.7064149 -0.j          0.04422658+0.j        ]] \n"
     ]
    }
   ],
   "source": [
    "sym = np.transpose( -sksm )\n",
    "FindEVs( sym )"
   ]
  }
 ],
 "metadata": {
  "kernelspec": {
   "display_name": "Python 3.10.2 64-bit",
   "language": "python",
   "name": "python3"
  },
  "language_info": {
   "codemirror_mode": {
    "name": "ipython",
    "version": 3
   },
   "file_extension": ".py",
   "mimetype": "text/x-python",
   "name": "python",
   "nbconvert_exporter": "python",
   "pygments_lexer": "ipython3",
   "version": "3.10.2"
  },
  "orig_nbformat": 4,
  "vscode": {
   "interpreter": {
    "hash": "c6b7f27ee5a70fcc7df86208f5f523aeb4765a00e33761ffae8c25dabc4c9a33"
   }
  }
 },
 "nbformat": 4,
 "nbformat_minor": 2
}
